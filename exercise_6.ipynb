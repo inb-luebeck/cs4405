{
  "nbformat": 4,
  "nbformat_minor": 0,
  "metadata": {
    "kernelspec": {
      "display_name": "Python 3",
      "language": "python",
      "name": "python3"
    },
    "language_info": {
      "codemirror_mode": {
        "name": "ipython",
        "version": 3
      },
      "file_extension": ".py",
      "mimetype": "text/x-python",
      "name": "python",
      "nbconvert_exporter": "python",
      "pygments_lexer": "ipython3",
      "version": "3.6.6"
    },
    "colab": {
      "name": "exercise_6.ipynb",
      "provenance": [],
      "collapsed_sections": []
    }
  },
  "cells": [
    {
      "cell_type": "markdown",
      "metadata": {
        "id": "y28C4sU1qoOb",
        "colab_type": "text"
      },
      "source": [
        "# Exercise 6: Hopfield Network"
      ]
    },
    {
      "cell_type": "markdown",
      "metadata": {
        "id": "T5EpAEscqoOf",
        "colab_type": "text"
      },
      "source": [
        "**Note**: Please insert the names of all participating students:\n",
        "1. \n",
        "2. \n",
        "3. "
      ]
    },
    {
      "cell_type": "markdown",
      "metadata": {
        "id": "fAMXYmwYqoOh",
        "colab_type": "text"
      },
      "source": [
        "In this exercise, we will train a Hopfield network to recognize handwritten digits. A Hopfield network is a neural network with feedback, i.e. the `activations` of the network at time $t$ becomes the input of the network at time $t + 1$. The `activation` of neuron $j$ at time $t+1$ is given by\n",
        "\n",
        "$$\n",
        "\\begin{equation}\n",
        "    y_j \\left( t+1 \\right) = \n",
        "        \\left\\{ \n",
        "            \\begin{array}{rl}\n",
        "                1, & \\text{if } \\sum_{i=1}^{N} w_{ij} y_{i}\\left( t \\right) \\geq \\theta \\\\\n",
        "                -1, & \\text{else}\n",
        "            \\end{array} \n",
        "        \\right.\n",
        "\\end{equation}\n",
        "$$\n",
        "\n",
        "where $N$ is the number of neurons in the Hopfield network and $w_{ij}$ is the `weight` between neuron $i$ and $j$.\n",
        "\n",
        "If the `weights` are initialized suitably, the Hopfield network can be used as an autoassociative memory that recognizes a certain number of patterns. When presented with an initial input, the network will converge to the learned pattern that most closely resembles that input.\n",
        "\n",
        "To achieve this, the weights need to be initialized as follows:\n",
        "\n",
        "$$\n",
        "\\begin{equation}\n",
        "    w_{ij} = \n",
        "        \\left\\{ \n",
        "            \\begin{array}{rl}\n",
        "                0, & \\text{if } i = j \\\\\n",
        "                \\frac{1}{N}\\sum_{\\mu = 1}^{p} x_{i}^{\\mu} x_{j}^{\\mu}, & \\text{else}\n",
        "            \\end{array} \n",
        "        \\right.\n",
        "\\end{equation}\n",
        "$$\n",
        "\n",
        "where $\\boldsymbol{x}^{\\mu}$ ($\\mu = 1, . . . , p$) are the `patterns` to be learned, $N$ is the total number of neurons and $x_i^{\\mu}$ is the $i$-th\n",
        "component of pattern $\\boldsymbol{x}^{\\mu}$."
      ]
    },
    {
      "cell_type": "markdown",
      "metadata": {
        "id": "DxAk8tPzqoOj",
        "colab_type": "text"
      },
      "source": [
        "## Preamble\n",
        "The following code downloads and imports all necessary files and modules into the virtual machine of Colab. Please make sure to execute it before solving this exercise. This mandatory preamble will be found on all exercise sheets."
      ]
    },
    {
      "cell_type": "code",
      "metadata": {
        "id": "BFohRQMLqoOm",
        "colab_type": "code",
        "colab": {}
      },
      "source": [
        "import sys, os\n",
        "if 'google.colab' in sys.modules:\n",
        "  if os.getcwd() == '/content':\n",
        "    !git clone 'https://github.com/inb-uni-luebeck/cs4405.git'\n",
        "    os.chdir('cs4405')\n",
        "\n",
        "import numpy as np\n",
        "from matplotlib import pyplot as plt\n",
        "from utils import utils_6 as utils"
      ],
      "execution_count": 0,
      "outputs": []
    },
    {
      "cell_type": "markdown",
      "metadata": {
        "id": "1YnvdhDUqoO1",
        "colab_type": "text"
      },
      "source": [
        "## Exercise 6.1: Weight Initialization of a Hopfield Network\n",
        "\n",
        "**Tasks**:\n",
        "- Implement the initialization of all `weights` $w_{ij}$ in the function `initialize_weights`. \n",
        "- This initialization stores the given `patterns` into the `weights`.\n",
        "\n",
        "**Programming Hints**:\n",
        "- How many neurons does the Hopfield network have based on the given `patterns`?\n",
        "- How many `weights` does the fully interconnected Hopfield network have?\n",
        "- Use `x.flatten()` to convert a tensor `x` to a vector.\n",
        "- Use `np.outer` to computer the outer product of two vectors.\n",
        "- Use `np.fill_diagonal` (note: in-place operation) to fill the diagonal of a given array."
      ]
    },
    {
      "cell_type": "code",
      "metadata": {
        "id": "KL322wseqoO2",
        "colab_type": "code",
        "colab": {}
      },
      "source": [
        "def initialize_weights(patterns):\n",
        "  \n",
        "  # n_rows: number of rows / n_cols: number of columns of each pattern\n",
        "  n_rows = patterns.shape[1]\n",
        "  n_cols = patterns.shape[2]\n",
        "    \n",
        "  # TODO: number of neurons of the hopfield net\n",
        "  n_neurons = \n",
        "    \n",
        "  # TODO: initialize all weights of the hopfield net with zero\n",
        "  weights = \n",
        "\n",
        "  for pattern in patterns:\n",
        "    \n",
        "    # TODO: convert the pattern to a vector\n",
        "    pattern = \n",
        "\n",
        "    # TODO: update all weights (including diagonal) for the given pattern\n",
        "    weights = \n",
        "\n",
        "  # TODO: scale weights by the number of neurons\n",
        "  weights = \n",
        "\n",
        "  # TODO: reset diagonal elements to zero\n",
        "  \n",
        "                \n",
        "  return weights"
      ],
      "execution_count": 0,
      "outputs": []
    },
    {
      "cell_type": "markdown",
      "metadata": {
        "id": "Yr2jLAinqoO_",
        "colab_type": "text"
      },
      "source": [
        "## Exercise 6.2: Association of a Hopfield Network\n",
        "\n",
        "**Tasks**:\n",
        "- Implement the update rule in the function `associate`. \n",
        "- In each epoch, update the `activation` of each neuron one after the other in a random sequence (so called asynchronous update). \n",
        "- Continue updating until the net has converged, i.e. until no neuron changes its `activation`. \n",
        "- Use $\\theta = 0$ as a `threshold`.\n",
        "\n",
        "**Programming Hints**:\n",
        "- What is the relation between `patterns`, `activations`, and number of neurons?\n",
        "- Use `x.flatten()` to convert a tensor `x` to a vector.\n",
        "- Try to avoid for-loops."
      ]
    },
    {
      "cell_type": "code",
      "metadata": {
        "id": "wWpGd-I7qoPB",
        "colab_type": "code",
        "colab": {}
      },
      "source": [
        "def associate(activations, weights, threshold=0.0):\n",
        "  \n",
        "  # Store the original shape\n",
        "  shape = activations.shape\n",
        "\n",
        "  # TODO: convert the activations to a vector\n",
        "  activations = \n",
        "\n",
        "  # TODO: number of neurons of the hopfield net\n",
        "  n_neurons = \n",
        "\n",
        "  # generate randomly permuted index array\n",
        "  indexes = np.random.permutation(n_neurons)\n",
        "\n",
        "  # loop until no change occurs\n",
        "  while True:\n",
        "\n",
        "    # copy activations\n",
        "    copy = activations.copy()\n",
        "\n",
        "    # iterate through all indexes in the index array\n",
        "    for index in indexes:\n",
        "      \n",
        "      # TODO: compute the activation of neuron_index at time t+1\n",
        "      activation = \n",
        "\n",
        "      # TODO: update the activation of neuron_index\n",
        "      if activation >= threshold:\n",
        "        pass\n",
        "      else:\n",
        "        pass\n",
        "\n",
        "    # compare copied with new activations\n",
        "    if np.all(activations == copy):\n",
        "      break\n",
        "\n",
        "  return np.reshape(activations, shape)"
      ],
      "execution_count": 0,
      "outputs": []
    },
    {
      "cell_type": "markdown",
      "metadata": {
        "id": "RjFk-69tqoPL",
        "colab_type": "text"
      },
      "source": [
        "## Exercise 6.3: Testing a Hopfield Network\n",
        "**Tasks**:\n",
        "- Test the Hopfield network on the handwritten digits from 0 to 9.\n",
        "- First, check if the network is able to learn and distinguish all ten digits in their original form, i.e. set the `noise` to zero.\n",
        "- Second, test how `noise` affects the ability of the network to recognize the digits. Experiment with different values of `noise` $\\in [0,1]$. \n",
        "\n",
        "**Questions**:\n",
        "- What is the largest subset that the network can distinguish (`noise=0.0`)?\n",
        "- What is the maximum amount of noise the network can tolerate for the found subset?\n",
        "\n",
        "**Answers**:\n",
        "- \n"
      ]
    },
    {
      "cell_type": "code",
      "metadata": {
        "id": "R-YTT7lIqoPL",
        "colab_type": "code",
        "colab": {}
      },
      "source": [
        "patterns = utils.load_data('data/data_6.npz')\n",
        "\n",
        "# TODO: select a subset of patterns\n",
        "patterns_subset = patterns[[0, 1, 2, 3, 4, 5, 6, 7, 8, 9]]\n",
        "\n",
        "weights = initialize_weights(patterns_subset)\n",
        "\n",
        "# TODO: add noise to the patterns\n",
        "patterns_noise = utils.add_noise(patterns_subset, noise=0.0)\n",
        "\n",
        "patterns_fixpoint = np.stack([associate(p, weights) for p in patterns_noise])\n",
        "utils.plot(patterns_subset, patterns_noise, patterns_fixpoint)"
      ],
      "execution_count": 0,
      "outputs": []
    }
  ]
}